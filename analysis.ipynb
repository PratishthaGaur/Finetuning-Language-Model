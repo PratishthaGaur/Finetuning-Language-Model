{
 "cells": [
  {
   "cell_type": "code",
   "execution_count": 8,
   "metadata": {},
   "outputs": [],
   "source": [
    "import os\n",
    "from tokenizer import SimpleTokenizer\n",
    "def analyze_text(file_path):\n",
    "    with open(file_path, 'r', encoding='utf-8') as file:\n",
    "        text = file.read()\n",
    "        # tokens = text.split()\n",
    "        tokens = SimpleTokenizer(' '.join(text)).vocab_size\n",
    "        print(tokens)\n",
    "        # unique_tokens = set(tokens)\n",
    "        # num_tokens = len(tokens)\n",
    "        # num_unique_tokens = len(unique_tokens)\n",
    "        return tokens, 123\n",
    "\n",
    "\n",
    "    "
   ]
  },
  {
   "cell_type": "code",
   "execution_count": 9,
   "metadata": {},
   "outputs": [
    {
     "name": "stdout",
     "output_type": "stream",
     "text": [
      "73\n",
      "File: speechesdataset/test_LM_hbush.txt\n",
      "Number of tokens: 73\n",
      "Number of unique tokens: 123\n",
      "------------------------------\n",
      "80\n",
      "File: speechesdataset/test_LM_obama.txt\n",
      "Number of tokens: 80\n",
      "Number of unique tokens: 123\n",
      "------------------------------\n",
      "72\n",
      "File: speechesdataset/test_LM_wbush.txt\n",
      "Number of tokens: 72\n",
      "Number of unique tokens: 123\n",
      "------------------------------\n"
     ]
    }
   ],
   "source": [
    "file_paths = ['speechesdataset/test_LM_hbush.txt', 'speechesdataset/test_LM_obama.txt', 'speechesdataset/test_LM_wbush.txt']\n",
    "for file_path in file_paths:\n",
    "    if os.path.exists(file_path):\n",
    "        num_tokens, num_unique_tokens = analyze_text(file_path)\n",
    "        print(f\"File: {file_path}\")\n",
    "        print(f\"Number of tokens: {num_tokens}\")\n",
    "        print(f\"Number of unique tokens: {num_unique_tokens}\")\n",
    "        print(\"-\" * 30)\n",
    "    else:\n",
    "        print(f\"File not found: {file_path}\")\n"
   ]
  },
  {
   "cell_type": "code",
   "execution_count": null,
   "metadata": {},
   "outputs": [],
   "source": []
  }
 ],
 "metadata": {
  "kernelspec": {
   "display_name": "Python 3",
   "language": "python",
   "name": "python3"
  },
  "language_info": {
   "codemirror_mode": {
    "name": "ipython",
    "version": 3
   },
   "file_extension": ".py",
   "mimetype": "text/x-python",
   "name": "python",
   "nbconvert_exporter": "python",
   "pygments_lexer": "ipython3",
   "version": "3.10.0"
  }
 },
 "nbformat": 4,
 "nbformat_minor": 2
}
